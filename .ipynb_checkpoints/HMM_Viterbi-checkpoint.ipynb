{
 "cells": [
  {
   "cell_type": "code",
   "execution_count": 1,
   "metadata": {},
   "outputs": [
    {
     "data": {
      "text/plain": [
       "'C:\\\\Users\\\\sumit\\\\OneDrive\\\\Escritorio\\\\Universidad\\\\P_Curriculares\\\\Clasificación de texto (NLP)'"
      ]
     },
     "execution_count": 1,
     "metadata": {},
     "output_type": "execute_result"
    }
   ],
   "source": [
    "import sys\n",
    "sys.path.append(\"C:/Users/sumit/OneDrive/Escritorio/Universidad/P_Curriculares/Clasificación de texto (NLP)/venv/Lib/site-packages\")\n",
    "\n",
    "%pwd"
   ]
  },
  {
   "cell_type": "code",
   "execution_count": 2,
   "metadata": {
    "id": "858EOFNBPxDs"
   },
   "outputs": [],
   "source": [
    "# instalacion de dependencias previas\n",
    "#!pip install conllu\n",
    "#!git clone https://github.com/UniversalDependencies/UD_Spanish-AnCora.git"
   ]
  },
  {
   "cell_type": "markdown",
   "metadata": {
    "id": "cAHDLyQQcboh"
   },
   "source": [
    "# Carga del modelo HMM previamente entrenado"
   ]
  },
  {
   "cell_type": "code",
   "execution_count": 3,
   "metadata": {
    "id": "9jwZedC6RVJy"
   },
   "outputs": [],
   "source": [
    "# cargamos las probabilidades del modelo HMM\n",
    "import numpy as np\n",
    "transitionProbdict = np.load('HMM Trained Models/transitionHMM.npy', allow_pickle='TRUE').item()\n",
    "emissionProbdict = np.load('HMM Trained Models/emissionHMM.npy', allow_pickle='TRUE').item()"
   ]
  },
  {
   "cell_type": "code",
   "execution_count": 4,
   "metadata": {
    "colab": {
     "base_uri": "https://localhost:8080/",
     "height": 296
    },
    "executionInfo": {
     "elapsed": 886,
     "status": "ok",
     "timestamp": 1594785985380,
     "user": {
      "displayName": "Francisco Camacho",
      "photoUrl": "https://lh3.googleusercontent.com/a-/AOh14Gi9-RzPl8GwmwlgVzviB9WCCmO7S-tSRs4UBCgR=s64",
      "userId": "03320326049189164988"
     },
     "user_tz": 300
    },
    "id": "Ezi9gcquUw55",
    "outputId": "0b03240b-6688-456b-ecf0-098e1ff6e1a3"
   },
   "outputs": [
    {
     "data": {
      "text/plain": [
       "{'ADJ',\n",
       " 'ADP',\n",
       " 'ADV',\n",
       " 'AUX',\n",
       " 'CCONJ',\n",
       " 'DET',\n",
       " 'INTJ',\n",
       " 'NOUN',\n",
       " 'NUM',\n",
       " 'PART',\n",
       " 'PRON',\n",
       " 'PROPN',\n",
       " 'PUNCT',\n",
       " 'SCONJ',\n",
       " 'SYM',\n",
       " 'VERB',\n",
       " '_'}"
      ]
     },
     "execution_count": 4,
     "metadata": {},
     "output_type": "execute_result"
    }
   ],
   "source": [
    "# identificamos las categorias gramaticales 'upos' unicas en el corpus\n",
    "stateSet = set([w.split('|')[1] for w in list(emissionProbdict.keys())])\n",
    "stateSet"
   ]
  },
  {
   "cell_type": "code",
   "execution_count": 7,
   "metadata": {
    "colab": {
     "base_uri": "https://localhost:8080/",
     "height": 296
    },
    "executionInfo": {
     "elapsed": 577,
     "status": "ok",
     "timestamp": 1594785985381,
     "user": {
      "displayName": "Francisco Camacho",
      "photoUrl": "https://lh3.googleusercontent.com/a-/AOh14Gi9-RzPl8GwmwlgVzviB9WCCmO7S-tSRs4UBCgR=s64",
      "userId": "03320326049189164988"
     },
     "user_tz": 300
    },
    "id": "-aVD0jboWKGh",
    "outputId": "00d32831-8964-4ad6-de81-ffe5ba2d3a46"
   },
   "outputs": [
    {
     "data": {
      "text/plain": [
       "{'SCONJ': 0,\n",
       " 'VERB': 1,\n",
       " 'PROPN': 2,\n",
       " 'PRON': 3,\n",
       " 'NUM': 4,\n",
       " 'PART': 5,\n",
       " 'AUX': 6,\n",
       " 'INTJ': 7,\n",
       " 'ADP': 8,\n",
       " 'ADJ': 9,\n",
       " 'CCONJ': 10,\n",
       " 'SYM': 11,\n",
       " '_': 12,\n",
       " 'DET': 13,\n",
       " 'NOUN': 14,\n",
       " 'PUNCT': 15,\n",
       " 'ADV': 16}"
      ]
     },
     "execution_count": 7,
     "metadata": {},
     "output_type": "execute_result"
    }
   ],
   "source": [
    "# enumeramos las categorias con numeros para asignar a \n",
    "# las columnas de la matriz de Viterbi\n",
    "tagStateDict = {}\n",
    "for i, state in enumerate(stateSet):\n",
    "  tagStateDict[state] = i\n",
    "tagStateDict"
   ]
  },
  {
   "cell_type": "markdown",
   "metadata": {
    "id": "9SNuWx-ScSTg"
   },
   "source": [
    "# Distribucion inicial de estados latentes"
   ]
  },
  {
   "cell_type": "markdown",
   "metadata": {},
   "source": [
    "Para poder calcular la distribución inicial de estados, tenemos que sacar las probabilidades de que al principio de la frase aparezca alguna categoría gramatical:"
   ]
  },
  {
   "cell_type": "code",
   "execution_count": 8,
   "metadata": {
    "colab": {
     "base_uri": "https://localhost:8080/",
     "height": 296
    },
    "executionInfo": {
     "elapsed": 2568,
     "status": "ok",
     "timestamp": 1594787294374,
     "user": {
      "displayName": "Francisco Camacho",
      "photoUrl": "https://lh3.googleusercontent.com/a-/AOh14Gi9-RzPl8GwmwlgVzviB9WCCmO7S-tSRs4UBCgR=s64",
      "userId": "03320326049189164988"
     },
     "user_tz": 300
    },
    "id": "put9Dyk1Yl2A",
    "outputId": "102c4102-3a17-48dd-93b2-40c95a96ff04"
   },
   "outputs": [
    {
     "data": {
      "text/plain": [
       "{'DET': 0.3633615477629988,\n",
       " 'PROPN': 0.1124546553808948,\n",
       " 'ADP': 0.15538089480048367,\n",
       " 'PRON': 0.034461910519951636,\n",
       " 'SCONJ': 0.02418379685610641,\n",
       " 'ADV': 0.06287787182587666,\n",
       " 'PUNCT': 0.07799274486094317,\n",
       " 'VERB': 0.04353083434099154,\n",
       " 'ADJ': 0.010882708585247884,\n",
       " 'CCONJ': 0.03325272067714631,\n",
       " 'NOUN': 0.02720677146311971,\n",
       " '_': 0.009068923821039904,\n",
       " 'INTJ': 0.0006045949214026602,\n",
       " 'AUX': 0.022370012091898428,\n",
       " 'NUM': 0.01995163240628779,\n",
       " 'SYM': 0.0006045949214026602,\n",
       " 'PART': 0.0018137847642079807}"
      ]
     },
     "execution_count": 8,
     "metadata": {},
     "output_type": "execute_result"
    }
   ],
   "source": [
    "# Calculamos distribución inicial de estados\n",
    "initTagStateProb = {} # \\rho_i^{(0)}\n",
    "from conllu import parse_incr \n",
    "wordList = []\n",
    "data_file = open(\"UD_Spanish-AnCora/es_ancora-ud-dev.conllu\", \"r\", encoding=\"utf-8\")\n",
    "count = 0 # cuenta la longitud del corpus\n",
    "for tokenlist in parse_incr(data_file):\n",
    "  count += 1\n",
    "  tag = tokenlist[0]['upos']\n",
    "  if tag in initTagStateProb.keys():\n",
    "    initTagStateProb[tag] += 1\n",
    "  else:\n",
    "    initTagStateProb[tag] = 1\n",
    "\n",
    "for key in initTagStateProb.keys():\n",
    "  initTagStateProb[key] /= count\n",
    "\n",
    "initTagStateProb"
   ]
  },
  {
   "cell_type": "code",
   "execution_count": 9,
   "metadata": {
    "colab": {
     "base_uri": "https://localhost:8080/",
     "height": 32
    },
    "executionInfo": {
     "elapsed": 441,
     "status": "ok",
     "timestamp": 1594787295243,
     "user": {
      "displayName": "Francisco Camacho",
      "photoUrl": "https://lh3.googleusercontent.com/a-/AOh14Gi9-RzPl8GwmwlgVzviB9WCCmO7S-tSRs4UBCgR=s64",
      "userId": "03320326049189164988"
     },
     "user_tz": 300
    },
    "id": "J5Rltqj6bbcV",
    "outputId": "2477fc48-e9d1-4548-baf2-e6e218f36b99"
   },
   "outputs": [
    {
     "data": {
      "text/plain": [
       "1.0"
      ]
     },
     "execution_count": 9,
     "metadata": {},
     "output_type": "execute_result"
    }
   ],
   "source": [
    "# verificamos que la suma de las probabilidades es 1 (100%)\n",
    "np.array([initTagStateProb[k] for k in initTagStateProb.keys()]).sum()"
   ]
  },
  {
   "cell_type": "markdown",
   "metadata": {
    "id": "YjnAshwzxrKZ"
   },
   "source": [
    "# Construcción del algoritmo de Viterbi\n",
    "\n",
    "\n",
    "\n",
    "\n"
   ]
  },
  {
   "cell_type": "markdown",
   "metadata": {
    "id": "zX-_MnPexnm0"
   },
   "source": [
    "Dada una secuencia de palabras $\\{p_1, p_2, \\dots, p_n \\}$, y un conjunto de categorias gramaticales dadas por la convención `upos`, se considera la matriz de probabilidades de Viterbi así:\n",
    "\n",
    "$$\n",
    "\\begin{array}{c c}\n",
    "\\begin{array}{c c c c}\n",
    "\\text{ADJ} \\\\\n",
    "\\text{ADV}\\\\\n",
    "\\text{PRON} \\\\\n",
    "\\vdots \\\\\n",
    "{}\n",
    "\\end{array} \n",
    "&\n",
    "\\left[\n",
    "\\begin{array}{c c c c}\n",
    "\\nu_1(\\text{ADJ}) & \\nu_2(\\text{ADJ}) & \\dots  & \\nu_n(\\text{ADJ})\\\\\n",
    "\\nu_1(\\text{ADV}) & \\nu_2(\\text{ADV}) & \\dots  & \\nu_n(\\text{ADV})\\\\ \n",
    "\\nu_1(\\text{PRON}) & \\nu_2(\\text{PRON}) & \\dots  & \\nu_n(\\text{PRON})\\\\\n",
    "\\vdots & \\vdots & \\dots & \\vdots \\\\ \\hdashline\n",
    "p_1 & p_2 & \\dots & p_n \n",
    "\\end{array}\n",
    "\\right] \n",
    "\\end{array}\n",
    "$$\n",
    "\n",
    "Donde las probabilidades de la primera columna (para una categoria $i$) están dadas por: \n",
    "\n",
    "$$\n",
    "\\nu_1(i) = \\underbrace{\\rho_i^{(0)}}_{\\text{probabilidad inicial}} \\times \\underbrace{P(p_1 \\vert i)}_{\\text{emisión}}\n",
    "$$\n",
    "\n",
    "luego, para la segunda columna (dada una categoria $j$) serán: \n",
    "\n",
    "$$\n",
    "\\nu_2(j) = \\max_i \\{ \\nu_1(i) \\times \\underbrace{P(j \\vert i)}_{\\text{transición}} \\times \\underbrace{P(p_2 \\vert j)}_{\\text{emisión}} \\}\n",
    "$$\n",
    "\n",
    "así, en general las probabilidades para la columna $t$ estarán dadas por: \n",
    "\n",
    "$$\n",
    "\\nu_{t}(j) = \\max_i \\{ \\overbrace{\\nu_{t-1}(i)}^{\\text{estado anterior}} \\times \\underbrace{P(j \\vert i)}_{\\text{transición}} \\times \\underbrace{P(p_t \\vert j)}_{\\text{emisión}} \\}\n",
    "$$"
   ]
  },
  {
   "cell_type": "code",
   "execution_count": 10,
   "metadata": {
    "colab": {
     "base_uri": "https://localhost:8080/",
     "height": 49
    },
    "executionInfo": {
     "elapsed": 1557,
     "status": "ok",
     "timestamp": 1594785998565,
     "user": {
      "displayName": "Francisco Camacho",
      "photoUrl": "https://lh3.googleusercontent.com/a-/AOh14Gi9-RzPl8GwmwlgVzviB9WCCmO7S-tSRs4UBCgR=s64",
      "userId": "03320326049189164988"
     },
     "user_tz": 300
    },
    "id": "rAyO788xPKra",
    "outputId": "a470923e-d446-4063-97a7-30e3e962cb18"
   },
   "outputs": [],
   "source": [
    "import nltk\n",
    "#nltk.download('punkt')\n",
    "from nltk import word_tokenize"
   ]
  },
  {
   "cell_type": "code",
   "execution_count": 11,
   "metadata": {
    "colab": {
     "base_uri": "https://localhost:8080/",
     "height": 296
    },
    "executionInfo": {
     "elapsed": 826,
     "status": "ok",
     "timestamp": 1594787364173,
     "user": {
      "displayName": "Francisco Camacho",
      "photoUrl": "https://lh3.googleusercontent.com/a-/AOh14Gi9-RzPl8GwmwlgVzviB9WCCmO7S-tSRs4UBCgR=s64",
      "userId": "03320326049189164988"
     },
     "user_tz": 300
    },
    "id": "9sJhQ35m5ASB",
    "outputId": "7cc43024-fe2c-4e43-a4d1-95952c3195de"
   },
   "outputs": [
    {
     "data": {
      "text/plain": [
       "array([[0.00000000e+00, 0.00000000e+00, 0.00000000e+00, 0.00000000e+00],\n",
       "       [0.00000000e+00, 0.00000000e+00, 0.00000000e+00, 0.00000000e+00],\n",
       "       [0.00000000e+00, 3.73423949e-05, 0.00000000e+00, 0.00000000e+00],\n",
       "       [0.00000000e+00, 0.00000000e+00, 0.00000000e+00, 0.00000000e+00],\n",
       "       [0.00000000e+00, 0.00000000e+00, 0.00000000e+00, 0.00000000e+00],\n",
       "       [0.00000000e+00, 0.00000000e+00, 0.00000000e+00, 0.00000000e+00],\n",
       "       [0.00000000e+00, 0.00000000e+00, 6.81611239e-07, 0.00000000e+00],\n",
       "       [0.00000000e+00, 0.00000000e+00, 0.00000000e+00, 0.00000000e+00],\n",
       "       [0.00000000e+00, 0.00000000e+00, 0.00000000e+00, 0.00000000e+00],\n",
       "       [0.00000000e+00, 0.00000000e+00, 0.00000000e+00, 1.39482064e-10],\n",
       "       [0.00000000e+00, 0.00000000e+00, 6.88379788e-09, 0.00000000e+00],\n",
       "       [0.00000000e+00, 0.00000000e+00, 0.00000000e+00, 0.00000000e+00],\n",
       "       [0.00000000e+00, 0.00000000e+00, 0.00000000e+00, 0.00000000e+00],\n",
       "       [1.24825060e-01, 0.00000000e+00, 0.00000000e+00, 0.00000000e+00],\n",
       "       [0.00000000e+00, 2.01778925e-04, 3.98810618e-10, 0.00000000e+00],\n",
       "       [0.00000000e+00, 0.00000000e+00, 0.00000000e+00, 0.00000000e+00],\n",
       "       [0.00000000e+00, 0.00000000e+00, 0.00000000e+00, 0.00000000e+00]])"
      ]
     },
     "execution_count": 11,
     "metadata": {},
     "output_type": "execute_result"
    }
   ],
   "source": [
    "def ViterbiMatrix(secuencia, transitionProbdict=transitionProbdict, emissionProbdict=emissionProbdict, \n",
    "            tagStateDict=tagStateDict, initTagStateProb=initTagStateProb):\n",
    "  seq = word_tokenize(secuencia)\n",
    "  viterbiProb = np.zeros((17, len(seq)))  # upos tiene 17 categorias\n",
    "\n",
    "  # inicialización primera columna\n",
    "  for key in tagStateDict.keys():\n",
    "    tag_row = tagStateDict[key]\n",
    "    word_tag = seq[0].lower()+'|'+key\n",
    "    if word_tag in emissionProbdict.keys():\n",
    "      viterbiProb[tag_row, 0] = initTagStateProb[key]*emissionProbdict[word_tag]\n",
    "\n",
    "  # computo de las siguientes columnas\n",
    "  for col in range(1, len(seq)):\n",
    "    for key in tagStateDict.keys():\n",
    "      tag_row = tagStateDict[key]\n",
    "      word_tag = seq[col].lower()+'|'+key\n",
    "      if word_tag in emissionProbdict.keys():\n",
    "        # miramos estados de la col anterior\n",
    "        possible_probs = []\n",
    "        for key2 in tagStateDict.keys(): \n",
    "          tag_row2 = tagStateDict[key2]\n",
    "          tag_prevtag = key+'|'+key2\n",
    "          if tag_prevtag in transitionProbdict.keys():\n",
    "            if viterbiProb[tag_row2, col-1]>0:\n",
    "              possible_probs.append(\n",
    "                  viterbiProb[tag_row2, col-1]*transitionProbdict[tag_prevtag]*emissionProbdict[word_tag])\n",
    "        viterbiProb[tag_row, col] = max(possible_probs)\n",
    "  \n",
    "  return viterbiProb\n",
    "\n",
    "matrix = ViterbiMatrix('el mundo es pequeño')\n",
    "matrix"
   ]
  },
  {
   "cell_type": "code",
   "execution_count": 12,
   "metadata": {
    "colab": {
     "base_uri": "https://localhost:8080/",
     "height": 98
    },
    "executionInfo": {
     "elapsed": 859,
     "status": "ok",
     "timestamp": 1594788084741,
     "user": {
      "displayName": "Francisco Camacho",
      "photoUrl": "https://lh3.googleusercontent.com/a-/AOh14Gi9-RzPl8GwmwlgVzviB9WCCmO7S-tSRs4UBCgR=s64",
      "userId": "03320326049189164988"
     },
     "user_tz": 300
    },
    "id": "J9CYMtNpuoKq",
    "outputId": "92aa7ea5-4aec-424f-efd9-1837d02bdf00"
   },
   "outputs": [
    {
     "data": {
      "text/plain": [
       "[('el', 'DET'),\n",
       " ('mundo', 'NOUN'),\n",
       " ('es', 'AUX'),\n",
       " ('muy', 'ADV'),\n",
       " ('pequeño', 'ADJ')]"
      ]
     },
     "execution_count": 12,
     "metadata": {},
     "output_type": "execute_result"
    }
   ],
   "source": [
    "def ViterbiTags(secuencia, transitionProbdict=transitionProbdict, emissionProbdict=emissionProbdict, \n",
    "            tagStateDict=tagStateDict, initTagStateProb=initTagStateProb):\n",
    "  seq = word_tokenize(secuencia)\n",
    "  viterbiProb = np.zeros((17, len(seq)))  # upos tiene 17 categorias\n",
    "\n",
    "  # inicialización primera columna\n",
    "  for key in tagStateDict.keys():\n",
    "    tag_row = tagStateDict[key]\n",
    "    word_tag = seq[0].lower()+'|'+key\n",
    "    if word_tag in emissionProbdict.keys():\n",
    "      viterbiProb[tag_row, 0] = initTagStateProb[key]*emissionProbdict[word_tag]\n",
    "\n",
    "  # computo de las siguientes columnas\n",
    "  for col in range(1, len(seq)):\n",
    "    for key in tagStateDict.keys():\n",
    "      tag_row = tagStateDict[key]\n",
    "      word_tag = seq[col].lower()+'|'+key\n",
    "      if word_tag in emissionProbdict.keys():\n",
    "        # miramos estados de la col anterior\n",
    "        possible_probs = []\n",
    "        for key2 in tagStateDict.keys(): \n",
    "          tag_row2 = tagStateDict[key2]\n",
    "          tag_prevtag = key+'|'+key2\n",
    "          if tag_prevtag in transitionProbdict.keys():\n",
    "            if viterbiProb[tag_row2, col-1]>0:\n",
    "              possible_probs.append(\n",
    "                  viterbiProb[tag_row2, col-1]*transitionProbdict[tag_prevtag]*emissionProbdict[word_tag])\n",
    "        viterbiProb[tag_row, col] = max(possible_probs)\n",
    "\n",
    "    # contruccion de secuencia de tags\n",
    "    res = []\n",
    "    for i, p in enumerate(seq):\n",
    "      for tag in tagStateDict.keys():\n",
    "        if tagStateDict[tag] == np.argmax(viterbiProb[:, i]):\n",
    "          res.append((p, tag))\n",
    "      \n",
    "  return res\n",
    "\n",
    "ViterbiTags('el mundo es muy pequeño')"
   ]
  },
  {
   "cell_type": "code",
   "execution_count": 13,
   "metadata": {
    "colab": {
     "base_uri": "https://localhost:8080/",
     "height": 98
    },
    "executionInfo": {
     "elapsed": 915,
     "status": "ok",
     "timestamp": 1594788399688,
     "user": {
      "displayName": "Francisco Camacho",
      "photoUrl": "https://lh3.googleusercontent.com/a-/AOh14Gi9-RzPl8GwmwlgVzviB9WCCmO7S-tSRs4UBCgR=s64",
      "userId": "03320326049189164988"
     },
     "user_tz": 300
    },
    "id": "FwOk8ABlx13k",
    "outputId": "0dddea10-ed1c-4bc8-f4c7-7cfc16872f7d"
   },
   "outputs": [
    {
     "data": {
      "text/plain": [
       "[('estos', 'DET'),\n",
       " ('instrumentos', 'NOUN'),\n",
       " ('han', 'AUX'),\n",
       " ('de', 'ADP'),\n",
       " ('rasgar', 'VERB')]"
      ]
     },
     "execution_count": 13,
     "metadata": {},
     "output_type": "execute_result"
    }
   ],
   "source": [
    "ViterbiTags('estos instrumentos han de rasgar')"
   ]
  },
  {
   "cell_type": "markdown",
   "metadata": {
    "id": "BnLT12Qx5D78"
   },
   "source": [
    "# Entrenamiento directo de HMM con NLTK\n",
    "\n",
    "* clase en python (NLTK) de HMM: https://www.nltk.org/_modules/nltk/tag/hmm.html"
   ]
  },
  {
   "cell_type": "code",
   "execution_count": 14,
   "metadata": {
    "colab": {
     "base_uri": "https://localhost:8080/",
     "height": 49
    },
    "executionInfo": {
     "elapsed": 2535,
     "status": "ok",
     "timestamp": 1594236481611,
     "user": {
      "displayName": "Francisco Camacho",
      "photoUrl": "https://lh3.googleusercontent.com/a-/AOh14Gi9-RzPl8GwmwlgVzviB9WCCmO7S-tSRs4UBCgR=s64",
      "userId": "03320326049189164988"
     },
     "user_tz": 300
    },
    "id": "NVyCuawh5Eqj",
    "outputId": "8f2ef078-4a92-44cd-f614-543ccbe3cff6"
   },
   "outputs": [
    {
     "name": "stderr",
     "output_type": "stream",
     "text": [
      "[nltk_data] Downloading package treebank to\n",
      "[nltk_data]     C:\\Users\\sumit\\AppData\\Roaming\\nltk_data...\n",
      "[nltk_data]   Unzipping corpora\\treebank.zip.\n"
     ]
    }
   ],
   "source": [
    "#@title ejemplo con el Corpus Treebank en ingles\n",
    "import nltk\n",
    "nltk.download('treebank')\n",
    "from nltk.corpus import treebank\n",
    "train_data = treebank.tagged_sents()[:3900]"
   ]
  },
  {
   "cell_type": "code",
   "execution_count": 15,
   "metadata": {
    "colab": {
     "base_uri": "https://localhost:8080/",
     "height": 52
    },
    "executionInfo": {
     "elapsed": 2523,
     "status": "ok",
     "timestamp": 1594236481613,
     "user": {
      "displayName": "Francisco Camacho",
      "photoUrl": "https://lh3.googleusercontent.com/a-/AOh14Gi9-RzPl8GwmwlgVzviB9WCCmO7S-tSRs4UBCgR=s64",
      "userId": "03320326049189164988"
     },
     "user_tz": 300
    },
    "id": "C_DomEIM5Hif",
    "outputId": "df2a8bd9-2e56-4296-ef9a-c774456ae39e"
   },
   "outputs": [
    {
     "data": {
      "text/plain": [
       "[[('Pierre', 'NNP'), ('Vinken', 'NNP'), (',', ','), ('61', 'CD'), ('years', 'NNS'), ('old', 'JJ'), (',', ','), ('will', 'MD'), ('join', 'VB'), ('the', 'DT'), ('board', 'NN'), ('as', 'IN'), ('a', 'DT'), ('nonexecutive', 'JJ'), ('director', 'NN'), ('Nov.', 'NNP'), ('29', 'CD'), ('.', '.')], [('Mr.', 'NNP'), ('Vinken', 'NNP'), ('is', 'VBZ'), ('chairman', 'NN'), ('of', 'IN'), ('Elsevier', 'NNP'), ('N.V.', 'NNP'), (',', ','), ('the', 'DT'), ('Dutch', 'NNP'), ('publishing', 'VBG'), ('group', 'NN'), ('.', '.')], ...]"
      ]
     },
     "execution_count": 15,
     "metadata": {},
     "output_type": "execute_result"
    }
   ],
   "source": [
    "#@title estructura de la data de entrenamiento\n",
    "train_data"
   ]
  },
  {
   "cell_type": "code",
   "execution_count": 16,
   "metadata": {
    "colab": {
     "base_uri": "https://localhost:8080/",
     "height": 32
    },
    "executionInfo": {
     "elapsed": 3738,
     "status": "ok",
     "timestamp": 1594236482841,
     "user": {
      "displayName": "Francisco Camacho",
      "photoUrl": "https://lh3.googleusercontent.com/a-/AOh14Gi9-RzPl8GwmwlgVzviB9WCCmO7S-tSRs4UBCgR=s64",
      "userId": "03320326049189164988"
     },
     "user_tz": 300
    },
    "id": "WtknnYIi5KdG",
    "outputId": "e4dbaf5e-7934-4d24-ab4e-e406620c648d"
   },
   "outputs": [
    {
     "data": {
      "text/plain": [
       "<HiddenMarkovModelTagger 46 states and 12385 output symbols>"
      ]
     },
     "execution_count": 16,
     "metadata": {},
     "output_type": "execute_result"
    }
   ],
   "source": [
    "#@title HMM pre-construido en NLTK\n",
    "from nltk.tag import hmm\n",
    "tagger = hmm.HiddenMarkovModelTrainer().train_supervised(train_data)\n",
    "tagger"
   ]
  },
  {
   "cell_type": "code",
   "execution_count": 17,
   "metadata": {
    "colab": {
     "base_uri": "https://localhost:8080/",
     "height": 98
    },
    "executionInfo": {
     "elapsed": 4625,
     "status": "ok",
     "timestamp": 1594236483742,
     "user": {
      "displayName": "Francisco Camacho",
      "photoUrl": "https://lh3.googleusercontent.com/a-/AOh14Gi9-RzPl8GwmwlgVzviB9WCCmO7S-tSRs4UBCgR=s64",
      "userId": "03320326049189164988"
     },
     "user_tz": 300
    },
    "id": "tLG-QzKc5OM4",
    "outputId": "c05f89f9-1894-4116-93b2-f2b7d4cf96a3"
   },
   "outputs": [
    {
     "data": {
      "text/plain": [
       "[('Pierre', 'NNP'),\n",
       " ('Vinken', 'NNP'),\n",
       " ('will', 'MD'),\n",
       " ('get', 'VB'),\n",
       " ('old', 'JJ')]"
      ]
     },
     "execution_count": 17,
     "metadata": {},
     "output_type": "execute_result"
    }
   ],
   "source": [
    "tagger.tag(\"Pierre Vinken will get old\".split())"
   ]
  },
  {
   "cell_type": "code",
   "execution_count": 18,
   "metadata": {
    "colab": {
     "base_uri": "https://localhost:8080/",
     "height": 32
    },
    "executionInfo": {
     "elapsed": 33222,
     "status": "ok",
     "timestamp": 1594236512350,
     "user": {
      "displayName": "Francisco Camacho",
      "photoUrl": "https://lh3.googleusercontent.com/a-/AOh14Gi9-RzPl8GwmwlgVzviB9WCCmO7S-tSRs4UBCgR=s64",
      "userId": "03320326049189164988"
     },
     "user_tz": 300
    },
    "id": "aGLYRUBb5Wni",
    "outputId": "2ed13ca6-f699-4602-a94f-ef2753f8e461"
   },
   "outputs": [
    {
     "data": {
      "text/plain": [
       "0.9815403947224078"
      ]
     },
     "execution_count": 18,
     "metadata": {},
     "output_type": "execute_result"
    }
   ],
   "source": [
    "#@title training accuracy\n",
    "tagger.evaluate(treebank.tagged_sents()[:3900])"
   ]
  },
  {
   "cell_type": "markdown",
   "metadata": {
    "id": "FN-Bgfk-pI0m"
   },
   "source": [
    "## Ejercicio de práctica\n",
    "\n",
    "**Objetivo:** Entrena un HMM usando la clase `hmm.HiddenMarkovModelTrainer()` sobre el dataset `UD_Spanish_AnCora`."
   ]
  },
  {
   "cell_type": "markdown",
   "metadata": {
    "id": "ZrtTL4ihxfiq"
   },
   "source": [
    "1. **Pre-procesamiento:** En el ejemplo anterior usamos el dataset en ingles `treebank`, el cual viene con una estructura diferente a la de `AnCora`, en esta parte escribe código para transformar la estructura de `AnCora` de manera que quede igual al `treebank` que usamos así:\n",
    "\n",
    "$$\\left[ \\left[ (\\text{'El'}, \\text{'DET'}), (\\dots), \\dots\\right], \\left[\\dots \\right] \\right]$$"
   ]
  },
  {
   "cell_type": "code",
   "execution_count": 90,
   "metadata": {
    "id": "1X8qg5Fc5ahS"
   },
   "outputs": [
    {
     "data": {
      "text/plain": [
       "1654"
      ]
     },
     "execution_count": 90,
     "metadata": {},
     "output_type": "execute_result"
    }
   ],
   "source": [
    "# desarrolla tu código aquí\n",
    "\n",
    "#@title leyendo el corpus AnCora\n",
    "from conllu import parse_incr \n",
    "data_file = open(\"UD_Spanish-AnCora/es_ancora-ud-dev.conllu\", \"r\", encoding=\"utf-8\")\n",
    "data = []\n",
    "\n",
    "for tokenlist in parse_incr(data_file):\n",
    "    tokens = []\n",
    "    for token in tokenlist:\n",
    "        tokens.append((token['form'],token['upos']))\n",
    "    data.append(tokens)\n",
    "\n",
    "len(data)"
   ]
  },
  {
   "cell_type": "markdown",
   "metadata": {
    "id": "W_OYeCVQrZAK"
   },
   "source": [
    "2. **Entrenamiento:** Una vez que el dataset esta con la estructura correcta, utiliza la clase `hmm.HiddenMarkovModelTrainer()` para entrenar con el $80 \\%$ del dataset como conjunto de `entrenamiento` y $20 \\%$ para el conjunto de `test`.\n",
    "\n",
    "**Ayuda:** Para la separacion entre conjuntos de entrenamiento y test, puedes usar la funcion de Scikit Learn: \n",
    "\n",
    "https://scikit-learn.org/stable/modules/generated/sklearn.model_selection.train_test_split.html\n",
    "\n",
    "En este punto el curso de Machine Learning con Scikit Learn es un buen complemento para entender mejor las funcionalidades de Scikit Learn: https://platzi.com/cursos/scikitlearn-ml/ "
   ]
  },
  {
   "cell_type": "code",
   "execution_count": 105,
   "metadata": {
    "id": "DZpAIB87sTqL"
   },
   "outputs": [
    {
     "data": {
      "text/plain": [
       "<HiddenMarkovModelTagger 17 states and 9027 output symbols>"
      ]
     },
     "execution_count": 105,
     "metadata": {},
     "output_type": "execute_result"
    }
   ],
   "source": [
    "# desarrolla tu código aquí\n",
    "from sklearn.model_selection import train_test_split\n",
    "from nltk.tag import hmm\n",
    "\n",
    "train_data, test_data = train_test_split(data, test_size=0.2)\n",
    "tagger2 = hmm.HiddenMarkovModelTrainer().train_supervised(train_data)\n",
    "tagger2"
   ]
  },
  {
   "cell_type": "code",
   "execution_count": 106,
   "metadata": {},
   "outputs": [
    {
     "data": {
      "text/plain": [
       "[('Sumit', 'PROPN'),\n",
       " ('está', 'PROPN'),\n",
       " ('aprendiendo', 'PROPN'),\n",
       " ('este', 'PROPN'),\n",
       " ('curso', 'PROPN')]"
      ]
     },
     "execution_count": 106,
     "metadata": {},
     "output_type": "execute_result"
    }
   ],
   "source": [
    "tagger2.tag(\"Sumit está aprendiendo este curso\".split())"
   ]
  },
  {
   "cell_type": "markdown",
   "metadata": {
    "id": "LLS54wqsu9OK"
   },
   "source": [
    "3. **Validación del modelo:** Un vez entrenado el `tagger`, calcula el rendimiento del modelo (usando `tagger.evaluate()`) para los conjuntos de `entrenamiento` y `test`.\n",
    "\n"
   ]
  },
  {
   "cell_type": "code",
   "execution_count": 107,
   "metadata": {
    "id": "JEwZIG8Du98v"
   },
   "outputs": [
    {
     "name": "stdout",
     "output_type": "stream",
     "text": [
      "0.9857778792375299\n",
      "0.25018382352941176\n"
     ]
    }
   ],
   "source": [
    "#desarrolla tu código aquí\n",
    "#@title training accuracy\n",
    "print(tagger2.evaluate(train_data))\n",
    "print(tagger2.evaluate(test_data))\n"
   ]
  },
  {
   "cell_type": "markdown",
   "metadata": {},
   "source": [
    "**Como se ve claramente aqui hay problemas de overfitting en el modelo**"
   ]
  }
 ],
 "metadata": {
  "colab": {
   "collapsed_sections": [
    "cAHDLyQQcboh",
    "9SNuWx-ScSTg",
    "YjnAshwzxrKZ",
    "BnLT12Qx5D78"
   ],
   "name": "Copia de [Lectura_11/12/13]HMM_Viterbi.ipynb",
   "provenance": [
    {
     "file_id": "1c5v1KguJNTv2cui4AOZ8lxifsdfzLspW",
     "timestamp": 1629656054546
    }
   ]
  },
  "kernelspec": {
   "display_name": "Python 3 (ipykernel)",
   "language": "python",
   "name": "python3"
  },
  "language_info": {
   "codemirror_mode": {
    "name": "ipython",
    "version": 3
   },
   "file_extension": ".py",
   "mimetype": "text/x-python",
   "name": "python",
   "nbconvert_exporter": "python",
   "pygments_lexer": "ipython3",
   "version": "3.9.6"
  }
 },
 "nbformat": 4,
 "nbformat_minor": 1
}
